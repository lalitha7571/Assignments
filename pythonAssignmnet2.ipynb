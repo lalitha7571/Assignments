{
  "nbformat": 4,
  "nbformat_minor": 0,
  "metadata": {
    "colab": {
      "name": "Untitled2.ipynb",
      "provenance": [],
      "collapsed_sections": [],
      "authorship_tag": "ABX9TyP85mjrAMA+V/Uq4fjjQqS2",
      "include_colab_link": true
    },
    "kernelspec": {
      "name": "python3",
      "display_name": "Python 3"
    },
    "language_info": {
      "name": "python"
    }
  },
  "cells": [
    {
      "cell_type": "markdown",
      "metadata": {
        "id": "view-in-github",
        "colab_type": "text"
      },
      "source": [
        "<a href=\"https://colab.research.google.com/github/lalitha7571/Assignments/blob/master/pythonAssignmnet2.ipynb\" target=\"_parent\"><img src=\"https://colab.research.google.com/assets/colab-badge.svg\" alt=\"Open In Colab\"/></a>"
      ]
    },
    {
      "cell_type": "markdown",
      "metadata": {
        "id": "_oTdjgFVe_er"
      },
      "source": [
        "1.Write a program which accepts a sequence of comma-separated numbers from console  and generate a list"
      ]
    },
    {
      "cell_type": "code",
      "metadata": {
        "colab": {
          "base_uri": "https://localhost:8080/"
        },
        "id": "AWzGkCzbfCSu",
        "outputId": "6b04ce33-10dd-4f31-95b3-0eb4f5531a6d"
      },
      "source": [
        "val = input(\"Enter the elements seperated by ','\")\n",
        "list = val.split(\",\")\n",
        "tuple = tuple(list)\n",
        "print(\"List\",list)\n",
        "print(\"tuple\",tuple)"
      ],
      "execution_count": null,
      "outputs": [
        {
          "output_type": "stream",
          "text": [
            "Enter the elements seperated by ','1,a,D,&,*\n",
            "List ['1', 'a', 'D', '&', '*']\n",
            "tuple ('1', 'a', 'D', '&', '*')\n"
          ],
          "name": "stdout"
        }
      ]
    },
    {
      "cell_type": "code",
      "metadata": {
        "colab": {
          "base_uri": "https://localhost:8080/"
        },
        "id": "EQENUl74gD3w",
        "outputId": "a04cf993-e4c2-4b25-8317-5f3f9b660d7f"
      },
      "source": [
        "n=5;\n",
        "for i in range(n):\n",
        "    for j in range(i):\n",
        "        print ('* ', end=\"\")\n",
        "    print('')\n",
        "\n",
        "for i in range(n,0,-1):\n",
        "    for j in range(i):\n",
        "        print('* ', end=\"\")\n",
        "    print('')\n",
        "\t\n",
        "        "
      ],
      "execution_count": null,
      "outputs": [
        {
          "output_type": "stream",
          "text": [
            "\n",
            "* \n",
            "* * \n",
            "* * * \n",
            "* * * * \n",
            "* * * * * \n",
            "* * * * \n",
            "* * * \n",
            "* * \n",
            "* \n"
          ],
          "name": "stdout"
        }
      ]
    },
    {
      "cell_type": "code",
      "metadata": {
        "colab": {
          "base_uri": "https://localhost:8080/"
        },
        "id": "UXIfMvEjm_u_",
        "outputId": "b151976c-98b9-4b5e-e4de-1202421e7079"
      },
      "source": [
        "word = input(\"Input a word to reverse: \")\n",
        "\n",
        "for char in range(len(word) - 1, -1, -1):\n",
        "  print(word[char], end=\"\")\n",
        "print(\"\\n\")"
      ],
      "execution_count": 10,
      "outputs": [
        {
          "output_type": "stream",
          "text": [
            "Input a word to reverse: ineuron\n",
            "norueni\n",
            "\n"
          ],
          "name": "stdout"
        }
      ]
    },
    {
      "cell_type": "markdown",
      "metadata": {
        "id": "AThXOpHwm_Pg"
      },
      "source": [
        ""
      ]
    }
  ]
}